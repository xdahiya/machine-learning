{
 "cells": [
  {
   "cell_type": "code",
   "execution_count": 1,
   "metadata": {
    "id": "h8gog_SyPBTC"
   },
   "outputs": [],
   "source": [
    "import pandas as pd\n",
    "import requests\n",
    "from bs4 import BeautifulSoup\n",
    "import numpy as np"
   ]
  },
  {
   "cell_type": "markdown",
   "metadata": {
    "id": "UXXL00KE5GqP"
   },
   "source": [
    "# if response code is 403\n",
    " - headers={'User-Agent':'Mozilla/5.0 (Windows NT 6.3; Win 64 ; x64) Apple WeKit /537.36(KHTML , like Gecko) Chrome/80.0.3987.162 Safari/537.36'}\n",
    " -requests.get('url',headers=headers).text"
   ]
  },
  {
   "cell_type": "code",
   "execution_count": null,
   "metadata": {
    "id": "TLs7qzd-5FEX"
   },
   "outputs": [],
   "source": []
  },
  {
   "cell_type": "code",
   "execution_count": null,
   "metadata": {
    "id": "jTydSea9PcHE"
   },
   "outputs": [],
   "source": [
    "headers={'User-Agent':'Mozilla/5.0 (Windows NT 6.3; Win 64 ; x64) Apple WeKit /537.36(KHTML , like Gecko) Chrome/80.0.3987.162 Safari/537.36'}\n",
    "webpage=requests.get('https://www.ambitionbox.com/list-of-companies?page=1',headers=headers).text\n",
    "webpage   "
   ]
  },
  {
   "cell_type": "code",
   "execution_count": 7,
   "metadata": {
    "id": "ZpcHZyDiQayL"
   },
   "outputs": [
    {
     "ename": "FeatureNotFound",
     "evalue": "Couldn't find a tree builder with the features you requested: lxml. Do you need to install a parser library?",
     "output_type": "error",
     "traceback": [
      "\u001b[31m---------------------------------------------------------------------------\u001b[39m",
      "\u001b[31mFeatureNotFound\u001b[39m                           Traceback (most recent call last)",
      "\u001b[36mCell\u001b[39m\u001b[36m \u001b[39m\u001b[32mIn[7]\u001b[39m\u001b[32m, line 1\u001b[39m\n\u001b[32m----> \u001b[39m\u001b[32m1\u001b[39m soup=\u001b[43mBeautifulSoup\u001b[49m\u001b[43m(\u001b[49m\u001b[43mwebpage\u001b[49m\u001b[43m,\u001b[49m\u001b[33;43m'\u001b[39;49m\u001b[33;43mlxml\u001b[39;49m\u001b[33;43m'\u001b[39;49m\u001b[43m)\u001b[49m\n",
      "\u001b[36mFile \u001b[39m\u001b[32m~/Developer/ml/100-days-of-machine-learning/venv/lib/python3.13/site-packages/bs4/__init__.py:364\u001b[39m, in \u001b[36mBeautifulSoup.__init__\u001b[39m\u001b[34m(self, markup, features, builder, parse_only, from_encoding, exclude_encodings, element_classes, **kwargs)\u001b[39m\n\u001b[32m    362\u001b[39m     possible_builder_class = builder_registry.lookup(*features)\n\u001b[32m    363\u001b[39m     \u001b[38;5;28;01mif\u001b[39;00m possible_builder_class \u001b[38;5;129;01mis\u001b[39;00m \u001b[38;5;28;01mNone\u001b[39;00m:\n\u001b[32m--> \u001b[39m\u001b[32m364\u001b[39m         \u001b[38;5;28;01mraise\u001b[39;00m FeatureNotFound(\n\u001b[32m    365\u001b[39m             \u001b[33m\"\u001b[39m\u001b[33mCouldn\u001b[39m\u001b[33m'\u001b[39m\u001b[33mt find a tree builder with the features you \u001b[39m\u001b[33m\"\u001b[39m\n\u001b[32m    366\u001b[39m             \u001b[33m\"\u001b[39m\u001b[33mrequested: \u001b[39m\u001b[38;5;132;01m%s\u001b[39;00m\u001b[33m. Do you need to install a parser library?\u001b[39m\u001b[33m\"\u001b[39m\n\u001b[32m    367\u001b[39m             % \u001b[33m\"\u001b[39m\u001b[33m,\u001b[39m\u001b[33m\"\u001b[39m.join(features)\n\u001b[32m    368\u001b[39m         )\n\u001b[32m    369\u001b[39m     builder_class = possible_builder_class\n\u001b[32m    371\u001b[39m \u001b[38;5;66;03m# At this point either we have a TreeBuilder instance in\u001b[39;00m\n\u001b[32m    372\u001b[39m \u001b[38;5;66;03m# builder, or we have a builder_class that we can instantiate\u001b[39;00m\n\u001b[32m    373\u001b[39m \u001b[38;5;66;03m# with the remaining **kwargs.\u001b[39;00m\n",
      "\u001b[31mFeatureNotFound\u001b[39m: Couldn't find a tree builder with the features you requested: lxml. Do you need to install a parser library?"
     ]
    }
   ],
   "source": [
    "soup=BeautifulSoup(webpage,'lxml')"
   ]
  },
  {
   "cell_type": "code",
   "execution_count": null,
   "metadata": {
    "id": "pVlSaG1v1ufv"
   },
   "outputs": [],
   "source": [
    "#print(soup.prettify())"
   ]
  },
  {
   "cell_type": "code",
   "execution_count": null,
   "metadata": {
    "colab": {
     "base_uri": "https://localhost:8080/",
     "height": 35
    },
    "id": "K15yMsdx14gX",
    "outputId": "a9bf3a0e-2b7c-4904-8426-d6aab8841d37"
   },
   "outputs": [],
   "source": [
    "soup.find_all('h1')[0].text"
   ]
  },
  {
   "cell_type": "markdown",
   "metadata": {
    "id": "nlrJOjtw6Q-V"
   },
   "source": [
    "# TO FIND OUT NAMES OF THE COMPANIES"
   ]
  },
  {
   "cell_type": "code",
   "execution_count": null,
   "metadata": {
    "colab": {
     "base_uri": "https://localhost:8080/",
     "height": 527
    },
    "id": "if5OqNWI3Atj",
    "outputId": "b160b5d5-bb21-487e-9bba-d5b7316433d9"
   },
   "outputs": [],
   "source": [
    "for i in soup.find_all('h2'):\n",
    "  print(i.text.strip())"
   ]
  },
  {
   "cell_type": "code",
   "execution_count": null,
   "metadata": {
    "colab": {
     "base_uri": "https://localhost:8080/",
     "height": 1000
    },
    "id": "QpjmJvQz3L_4",
    "outputId": "2d1a706a-2740-49e3-8199-2a05c031a8a4"
   },
   "outputs": [],
   "source": [
    "for i in soup.find_all('p'):\n",
    "  print(i.text.strip())"
   ]
  },
  {
   "cell_type": "code",
   "execution_count": null,
   "metadata": {
    "id": "q0cDFHe94QTn"
   },
   "outputs": [],
   "source": [
    "#for in soup.find_all('p'):\n",
    "  #print(i.text.strip())"
   ]
  },
  {
   "cell_type": "markdown",
   "metadata": {
    "id": "Sy9oKse_6WdF"
   },
   "source": [
    "## TO FIND OUT THE RATINGS"
   ]
  },
  {
   "cell_type": "code",
   "execution_count": null,
   "metadata": {
    "colab": {
     "base_uri": "https://localhost:8080/",
     "height": 34
    },
    "id": "oTJRDIHc4aPz",
    "outputId": "4c8e54c2-73a8-4147-ec2b-96153fd87d3a"
   },
   "outputs": [],
   "source": [
    "len(soup.find_all('p',class_='rating'))"
   ]
  },
  {
   "cell_type": "markdown",
   "metadata": {
    "id": "aVLBIp1q6bKi"
   },
   "source": [
    "## TO FIND OUT THE NUMBER OF REVIEWS"
   ]
  },
  {
   "cell_type": "code",
   "execution_count": null,
   "metadata": {
    "colab": {
     "base_uri": "https://localhost:8080/",
     "height": 34
    },
    "id": "aee5Z2bK48Gf",
    "outputId": "90210131-9c03-408c-b059-82bd7244eb37"
   },
   "outputs": [],
   "source": [
    "len(soup.find_all('a' , class_='review-count'))"
   ]
  },
  {
   "cell_type": "markdown",
   "metadata": {
    "id": "PA8HCbVD7dho"
   },
   "source": [
    "# CONSIDERING THE WHOLE CONTAINER\n",
    "\n"
   ]
  },
  {
   "cell_type": "code",
   "execution_count": null,
   "metadata": {
    "id": "5xH_T95B9wWO"
   },
   "outputs": [],
   "source": [
    "company=soup.find_all('div',class_='company-content-wrapper')"
   ]
  },
  {
   "cell_type": "code",
   "execution_count": null,
   "metadata": {
    "colab": {
     "base_uri": "https://localhost:8080/",
     "height": 34
    },
    "id": "2ALc15yw9w2E",
    "outputId": "d33cf99f-364a-4598-fdb8-736dee63bf5b"
   },
   "outputs": [],
   "source": [
    "len(company) "
   ]
  },
  {
   "cell_type": "code",
   "execution_count": null,
   "metadata": {
    "id": "lNrFbe6I9wzM"
   },
   "outputs": [],
   "source": [
    "name=[]\n",
    "rating=[]\n",
    "reviews=[]\n",
    "ctype=[]\n",
    "hq=[]\n",
    "how_old=[]\n",
    "no_of_employee=[]\n",
    "\n",
    "for i in company:\n",
    "\n",
    "  name.append(i.find('h2').text.strip())\n",
    "  rating.append(i.find('p',class_='rating').text.strip())\n",
    "  reviews.append(i.find('a' , class_='review-count').text.strip())\n",
    "  ctype.append(i.find_all('p',class_='infoEntity')[0].text.strip())\n",
    "  hq.append(i.find_all('p',class_='infoEntity')[1].text.strip())\n",
    "  how_old.append(i.find_all('p',class_='infoEntity')[2].text.strip())\n",
    "  no_of_employee.append(i.find_all('p',class_='infoEntity')[3].text.strip())\n",
    "\n",
    "df=pd.DataFrame({'name':name,\n",
    "   'rating':rating,\n",
    "   'reviews':reviews,\n",
    "   'company_type':ctype,\n",
    "   'Head_Quarters':hq,\n",
    "   'Company_Age':how_old,\n",
    "   'No_of_Employee':no_of_employee,\n",
    "   })\n",
    "  \n"
   ]
  },
  {
   "cell_type": "code",
   "execution_count": null,
   "metadata": {
    "colab": {
     "base_uri": "https://localhost:8080/",
     "height": 527
    },
    "id": "cqbu_DVu68V1",
    "outputId": "82ea9fda-e0a1-4de3-c2a2-a06cc862f809"
   },
   "outputs": [],
   "source": [
    "name"
   ]
  },
  {
   "cell_type": "code",
   "execution_count": null,
   "metadata": {
    "colab": {
     "base_uri": "https://localhost:8080/",
     "height": 527
    },
    "id": "ge7M03Fr_Fz0",
    "outputId": "dd8461c8-83eb-4a19-b0da-876d17c44aba"
   },
   "outputs": [],
   "source": [
    "rating"
   ]
  },
  {
   "cell_type": "code",
   "execution_count": null,
   "metadata": {
    "colab": {
     "base_uri": "https://localhost:8080/",
     "height": 527
    },
    "id": "U1AdxIWh_cT2",
    "outputId": "fa8a2757-558e-4609-bfb4-8e68eb273087"
   },
   "outputs": [],
   "source": [
    "reviews\n"
   ]
  },
  {
   "cell_type": "code",
   "execution_count": null,
   "metadata": {
    "colab": {
     "base_uri": "https://localhost:8080/",
     "height": 527
    },
    "id": "qD7dwe_3A0zX",
    "outputId": "17c8084e-e4c4-4d34-8b46-0a5b7edbbe17"
   },
   "outputs": [],
   "source": [
    "ctype"
   ]
  },
  {
   "cell_type": "code",
   "execution_count": null,
   "metadata": {
    "colab": {
     "base_uri": "https://localhost:8080/",
     "height": 527
    },
    "id": "gaBl79RWC6C9",
    "outputId": "d0846f29-36ff-4dfb-931d-af142040ea50"
   },
   "outputs": [],
   "source": [
    "hq"
   ]
  },
  {
   "cell_type": "code",
   "execution_count": null,
   "metadata": {
    "colab": {
     "base_uri": "https://localhost:8080/",
     "height": 527
    },
    "id": "qKvcL-RSDNA_",
    "outputId": "2de2b0ee-8cfc-4390-dd42-bd92dd1a83de"
   },
   "outputs": [],
   "source": [
    "how_old"
   ]
  },
  {
   "cell_type": "code",
   "execution_count": null,
   "metadata": {
    "colab": {
     "base_uri": "https://localhost:8080/",
     "height": 527
    },
    "id": "xoZK-cnADjZh",
    "outputId": "c109aa60-e69f-4de4-d203-2a985e79f5c9"
   },
   "outputs": [],
   "source": [
    "no_of_employee"
   ]
  },
  {
   "cell_type": "code",
   "execution_count": null,
   "metadata": {
    "colab": {
     "base_uri": "https://localhost:8080/",
     "height": 34
    },
    "id": "2Tr21ds3Dnqg",
    "outputId": "180d642b-87f9-4b0a-b82d-380297fe462a"
   },
   "outputs": [],
   "source": [
    "df.shape"
   ]
  },
  {
   "cell_type": "markdown",
   "metadata": {
    "id": "BQr_Y1UYHKM2"
   },
   "source": [
    "# creating dataframe for all the pages"
   ]
  },
  {
   "cell_type": "code",
   "execution_count": null,
   "metadata": {
    "id": "vu0soRadFf2J"
   },
   "outputs": [],
   "source": [
    "final=pd.DataFrame()\n",
    "for j in range(1,1001):\n",
    "  webpage=requests.get('https://www.ambitionbox.com/list-of-companies?page={}'.format(j)).text\n",
    "  soup=BeautifulSoup(webpage,'lxml')\n",
    "  company=soup.find_all('div',class_='company-content-wrapper')\n",
    "  name=[]\n",
    "  rating=[]\n",
    "  reviews=[]\n",
    "  ctype=[]\n",
    "  hq=[]\n",
    "  how_old=[]\n",
    "  no_of_employee=[]\n",
    "\n",
    "  for i in company:\n",
    "\n",
    "    try:\n",
    "       name.append(i.find('h2').text.strip())\n",
    "    except:\n",
    "       name.append(np.nan)\n",
    "\n",
    "    try:\n",
    "       rating.append(i.find('p',class_='rating').text.strip())\n",
    "    except:\n",
    "       rating.append(np.nan)\n",
    "   \n",
    "    try:\n",
    "\n",
    "      reviews.append(i.find('a' , class_='review-count').text.strip())\n",
    "    except:\n",
    "      reviews.append(np.nan)\n",
    "\n",
    "    try:\n",
    "\n",
    "      ctype.append(i.find_all('p',class_='infoEntity')[0].text.strip())\n",
    "    except:\n",
    "      ctype.append(np.nan)\n",
    "    try:\n",
    "\n",
    "      hq.append(i.find_all('p',class_='infoEntity')[1].text.strip())\n",
    "    except:\n",
    "      hq.append(np.nan)\n",
    "    \n",
    "    try:\n",
    "\n",
    "      how_old.append(i.find_all('p',class_='infoEntity')[2].text.strip())\n",
    "    except:\n",
    "      how_old.append(np.nan)\n",
    "    try:\n",
    "      no_of_employee.append(i.find_all('p',class_='infoEntity')[3].text.strip())\n",
    "    except:\n",
    "      no_of_employee.append(np.nan)\n",
    "    \n",
    "\n",
    "  df=pd.DataFrame({'name':name,\n",
    "    'rating':rating,\n",
    "    'reviews':reviews,\n",
    "    'company_type':ctype,\n",
    "    'Head_Quarters':hq,\n",
    "    'Company_Age':how_old,\n",
    "    'No_of_Employee':no_of_employee,\n",
    "    })\n",
    "  \n",
    "  final=final.append(df,ignore_index=True)\n",
    "\n",
    "\n",
    "\n"
   ]
  },
  {
   "cell_type": "code",
   "execution_count": null,
   "metadata": {
    "colab": {
     "base_uri": "https://localhost:8080/",
     "height": 204
    },
    "id": "nZwtx4cJD9K-",
    "outputId": "c54166f2-2c19-4870-c9bc-6b1df638a661"
   },
   "outputs": [],
   "source": [
    "df.sample(5)"
   ]
  },
  {
   "cell_type": "code",
   "execution_count": null,
   "metadata": {
    "colab": {
     "base_uri": "https://localhost:8080/",
     "height": 34
    },
    "id": "Fj-21N8oD-0C",
    "outputId": "f6379099-423e-4279-ce90-cb4285890529"
   },
   "outputs": [],
   "source": [
    "df.shape"
   ]
  },
  {
   "cell_type": "code",
   "execution_count": null,
   "metadata": {
    "colab": {
     "base_uri": "https://localhost:8080/",
     "height": 34
    },
    "id": "bADESucpEM2p",
    "outputId": "8845ebe2-57c6-40cb-e49d-de6b9471fa16"
   },
   "outputs": [],
   "source": [
    "final.shape"
   ]
  },
  {
   "cell_type": "code",
   "execution_count": null,
   "metadata": {
    "id": "ua1yezMhEdi5"
   },
   "outputs": [],
   "source": []
  }
 ],
 "metadata": {
  "colab": {
   "collapsed_sections": [],
   "name": "WEB_SCRAPING_DEMO",
   "provenance": []
  },
  "kernelspec": {
   "display_name": "Python 3 (ipykernel)",
   "language": "python",
   "name": "python3"
  },
  "language_info": {
   "codemirror_mode": {
    "name": "ipython",
    "version": 3
   },
   "file_extension": ".py",
   "mimetype": "text/x-python",
   "name": "python",
   "nbconvert_exporter": "python",
   "pygments_lexer": "ipython3",
   "version": "3.13.1"
  }
 },
 "nbformat": 4,
 "nbformat_minor": 4
}
